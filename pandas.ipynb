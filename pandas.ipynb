{
 "cells": [
  {
   "cell_type": "code",
   "execution_count": 1,
   "metadata": {},
   "outputs": [],
   "source": [
    "import pandas as pd\n",
    "import warnings\n",
    "from datetime import datetime\n",
    "from generalize import *\n",
    "\n",
    "warnings.filterwarnings('ignore')\n",
    "\n",
    "raw_df = pd.read_csv('data.txt')"
   ]
  },
  {
   "cell_type": "code",
   "execution_count": 2,
   "metadata": {},
   "outputs": [
    {
     "data": {
      "text/html": [
       "<div><div id=f2106052-5e4c-40f8-8679-c68fe37998bd style=\"display:none; background-color:#9D6CFF; color:white; width:200px; height:30px; padding-left:5px; border-radius:4px; flex-direction:row; justify-content:space-around; align-items:center;\" onmouseover=\"this.style.backgroundColor='#BA9BF8'\" onmouseout=\"this.style.backgroundColor='#9D6CFF'\" onclick=\"window.commands?.execute('create-mitosheet-from-dataframe-output');\">See Full Dataframe in Mito</div> <script> if (window.commands?.hasCommand('create-mitosheet-from-dataframe-output')) document.getElementById('f2106052-5e4c-40f8-8679-c68fe37998bd').style.display = 'flex' </script> <table border=\"1\" class=\"dataframe\">\n",
       "  <thead>\n",
       "    <tr style=\"text-align: right;\">\n",
       "      <th></th>\n",
       "      <th>user_id</th>\n",
       "      <th>user_birthdate</th>\n",
       "      <th>user_name</th>\n",
       "      <th>user_money</th>\n",
       "      <th>user_discount</th>\n",
       "      <th>Unnamed: 5</th>\n",
       "    </tr>\n",
       "  </thead>\n",
       "  <tbody>\n",
       "    <tr>\n",
       "      <th>0</th>\n",
       "      <td>101</td>\n",
       "      <td>01/05/1980</td>\n",
       "      <td>JoHn|</td>\n",
       "      <td>$1890</td>\n",
       "      <td>0.12</td>\n",
       "      <td>NaN</td>\n",
       "    </tr>\n",
       "    <tr>\n",
       "      <th>1</th>\n",
       "      <td>102</td>\n",
       "      <td>25/08/1975</td>\n",
       "      <td>Mi ke</td>\n",
       "      <td>$2555</td>\n",
       "      <td>0.09</td>\n",
       "      <td>NaN</td>\n",
       "    </tr>\n",
       "    <tr>\n",
       "      <th>2</th>\n",
       "      <td>103</td>\n",
       "      <td>01/03/1991</td>\n",
       "      <td>Cha rLi3</td>\n",
       "      <td>$754</td>\n",
       "      <td>0.00</td>\n",
       "      <td>NaN</td>\n",
       "    </tr>\n",
       "    <tr>\n",
       "      <th>3</th>\n",
       "      <td>104</td>\n",
       "      <td>10/06/1984</td>\n",
       "      <td>Jeff</td>\n",
       "      <td>$980</td>\n",
       "      <td>0.12</td>\n",
       "      <td>NaN</td>\n",
       "    </tr>\n",
       "    <tr>\n",
       "      <th>4</th>\n",
       "      <td>106</td>\n",
       "      <td>05/01/1988</td>\n",
       "      <td>P4trick</td>\n",
       "      <td>$3100</td>\n",
       "      <td>0.11</td>\n",
       "      <td>NaN</td>\n",
       "    </tr>\n",
       "  </tbody>\n",
       "</table></div>"
      ],
      "text/plain": [
       "   user_id user_birthdate user_name user_money  user_discount  Unnamed: 5\n",
       "0      101     01/05/1980     JoHn|      $1890           0.12         NaN\n",
       "1      102     25/08/1975     Mi ke      $2555           0.09         NaN\n",
       "2      103     01/03/1991  Cha rLi3       $754           0.00         NaN\n",
       "3      104     10/06/1984      Jeff       $980           0.12         NaN\n",
       "4      106     05/01/1988   P4trick      $3100           0.11         NaN"
      ]
     },
     "execution_count": 2,
     "metadata": {},
     "output_type": "execute_result"
    }
   ],
   "source": [
    "raw_df.head()"
   ]
  },
  {
   "cell_type": "code",
   "execution_count": 3,
   "metadata": {},
   "outputs": [
    {
     "data": {
      "text/html": [
       "<div><div id=ce7b1e0c-0967-4584-87b9-5152af8dfa9b style=\"display:none; background-color:#9D6CFF; color:white; width:200px; height:30px; padding-left:5px; border-radius:4px; flex-direction:row; justify-content:space-around; align-items:center;\" onmouseover=\"this.style.backgroundColor='#BA9BF8'\" onmouseout=\"this.style.backgroundColor='#9D6CFF'\" onclick=\"window.commands?.execute('create-mitosheet-from-dataframe-output');\">See Full Dataframe in Mito</div> <script> if (window.commands?.hasCommand('create-mitosheet-from-dataframe-output')) document.getElementById('ce7b1e0c-0967-4584-87b9-5152af8dfa9b').style.display = 'flex' </script> <table border=\"1\" class=\"dataframe\">\n",
       "  <thead>\n",
       "    <tr style=\"text-align: right;\">\n",
       "      <th></th>\n",
       "      <th>user_id</th>\n",
       "      <th>user_birthdate</th>\n",
       "      <th>user_name</th>\n",
       "      <th>user_money</th>\n",
       "      <th>user_discount</th>\n",
       "      <th>Unnamed: 5</th>\n",
       "    </tr>\n",
       "  </thead>\n",
       "  <tbody>\n",
       "    <tr>\n",
       "      <th>7</th>\n",
       "      <td>110</td>\n",
       "      <td>03/07/1995</td>\n",
       "      <td>Lucas</td>\n",
       "      <td>$4200</td>\n",
       "      <td>0.18</td>\n",
       "      <td>NaN</td>\n",
       "    </tr>\n",
       "    <tr>\n",
       "      <th>8</th>\n",
       "      <td>110</td>\n",
       "      <td>03/07/1995</td>\n",
       "      <td>Lucas</td>\n",
       "      <td>$4200</td>\n",
       "      <td>0.18</td>\n",
       "      <td>NaN</td>\n",
       "    </tr>\n",
       "  </tbody>\n",
       "</table></div>"
      ],
      "text/plain": [
       "   user_id user_birthdate user_name user_money  user_discount  Unnamed: 5\n",
       "7      110     03/07/1995     Lucas      $4200           0.18         NaN\n",
       "8      110     03/07/1995     Lucas      $4200           0.18         NaN"
      ]
     },
     "execution_count": 3,
     "metadata": {},
     "output_type": "execute_result"
    }
   ],
   "source": [
    "#search = raw_df[raw_df['user_name'].str.contains('Lucas')]\n",
    "search = raw_df.query('user_name == \"Lucas\"')\n",
    "search"
   ]
  },
  {
   "cell_type": "code",
   "execution_count": 4,
   "metadata": {},
   "outputs": [],
   "source": [
    "store_patterns = [\n",
    "    ('JoHn|', 'John'), ('Mi ke','Mike'), ('Cha rLi3', 'Charlie'), \n",
    "    ('P4trick','Patrick'), ('Ma.tt', 'Matt'), ('jAmes', 'James')\n",
    "    ]"
   ]
  },
  {
   "cell_type": "code",
   "execution_count": 5,
   "metadata": {},
   "outputs": [
    {
     "data": {
      "text/html": [
       "<div><div id=10522ef8-6068-40ab-bb7b-9c044d320655 style=\"display:none; background-color:#9D6CFF; color:white; width:200px; height:30px; padding-left:5px; border-radius:4px; flex-direction:row; justify-content:space-around; align-items:center;\" onmouseover=\"this.style.backgroundColor='#BA9BF8'\" onmouseout=\"this.style.backgroundColor='#9D6CFF'\" onclick=\"window.commands?.execute('create-mitosheet-from-dataframe-output');\">See Full Dataframe in Mito</div> <script> if (window.commands?.hasCommand('create-mitosheet-from-dataframe-output')) document.getElementById('10522ef8-6068-40ab-bb7b-9c044d320655').style.display = 'flex' </script> <table border=\"1\" class=\"dataframe\">\n",
       "  <thead>\n",
       "    <tr style=\"text-align: right;\">\n",
       "      <th></th>\n",
       "      <th>ID</th>\n",
       "      <th>Birthdate</th>\n",
       "      <th>Name</th>\n",
       "      <th>Balance</th>\n",
       "      <th>Discount</th>\n",
       "    </tr>\n",
       "  </thead>\n",
       "  <tbody>\n",
       "    <tr>\n",
       "      <th>0</th>\n",
       "      <td>109</td>\n",
       "      <td>1975-07-23</td>\n",
       "      <td>James</td>\n",
       "      <td>8500</td>\n",
       "      <td>23.0%</td>\n",
       "    </tr>\n",
       "    <tr>\n",
       "      <th>1</th>\n",
       "      <td>110</td>\n",
       "      <td>1995-03-07</td>\n",
       "      <td>Lucas</td>\n",
       "      <td>4200</td>\n",
       "      <td>18.0%</td>\n",
       "    </tr>\n",
       "  </tbody>\n",
       "</table></div>"
      ],
      "text/plain": [
       "    ID  Birthdate   Name  Balance Discount\n",
       "0  109 1975-07-23  James     8500    23.0%\n",
       "1  110 1995-03-07  Lucas     4200    18.0%"
      ]
     },
     "execution_count": 5,
     "metadata": {},
     "output_type": "execute_result"
    }
   ],
   "source": [
    "df = raw_df\n",
    "\n",
    "df.drop_duplicates(inplace=True)\n",
    "df = df.drop(columns=['Unnamed: 5'])\n",
    "\n",
    "df.rename(columns={\n",
    "    'user_id':'ID', \n",
    "    'user_birthdate':'Birthdate',\n",
    "    'user_name':'Name',\n",
    "    'user_money':'Balance',\n",
    "    'user_discount':'Discount'\n",
    "    }, inplace=True)\n",
    "\n",
    "df['Birthdate'] = pd.to_datetime(df['Birthdate'])\n",
    "\n",
    "df['Name'] = generalize(df['Name'], store_patterns)\n",
    "\n",
    "df['Balance'] = (df['Balance']\n",
    "    .str.findall(r'\\d+')\n",
    "    .str.join('')\n",
    "    .astype(int))\n",
    "\n",
    "df = (df\n",
    "    .query('Balance > 4000' or 'Discount > 0.20')\n",
    "    .sort_values(by='Balance', ascending=False)\n",
    "    .reset_index(drop=True))\n",
    "\n",
    "df['Discount'] = (df['Discount']\n",
    "    .mul(100)\n",
    "    .round(2)\n",
    "    .astype(str)\n",
    "    .add('%'))\n",
    "\n",
    "df.head()"
   ]
  }
 ],
 "metadata": {
  "kernelspec": {
   "display_name": "Python 3",
   "language": "python",
   "name": "python3"
  },
  "language_info": {
   "codemirror_mode": {
    "name": "ipython",
    "version": 3
   },
   "file_extension": ".py",
   "mimetype": "text/x-python",
   "name": "python",
   "nbconvert_exporter": "python",
   "pygments_lexer": "ipython3",
   "version": "3.10.5"
  },
  "orig_nbformat": 4,
  "vscode": {
   "interpreter": {
    "hash": "37083a178839ddb6837eca99e3841ef7be6dad5dc50c6d19829e2187d61ddd5d"
   }
  }
 },
 "nbformat": 4,
 "nbformat_minor": 2
}
